{
  "nbformat": 4,
  "nbformat_minor": 0,
  "metadata": {
    "colab": {
      "name": "Assignment 3.ipynb",
      "provenance": [],
      "collapsed_sections": []
    },
    "kernelspec": {
      "name": "python3",
      "display_name": "Python 3"
    }
  },
  "cells": [
    {
      "cell_type": "markdown",
      "metadata": {
        "id": "dujn0ogeT2Eo",
        "colab_type": "text"
      },
      "source": [
        "# Task 1:\n",
        "\n",
        "## 1.) Write a function to compute 5/0 and use try/except to catch the exceptions."
      ]
    },
    {
      "cell_type": "code",
      "metadata": {
        "id": "JB-axxHVT1W-",
        "colab_type": "code",
        "colab": {
          "base_uri": "https://localhost:8080/",
          "height": 34
        },
        "outputId": "cbe01b6b-ca26-4b95-b9dc-984aaf7d4985"
      },
      "source": [
        "def Divide():\n",
        "  try:\n",
        "    result = 5/0\n",
        "    print(result)\n",
        "  except ZeroDivisionError:\n",
        "    print(\"Divide by zero is not possible\")\n",
        "\n",
        "\n",
        "Divide()"
      ],
      "execution_count": 3,
      "outputs": [
        {
          "output_type": "stream",
          "text": [
            "Divide by zero is not possible\n"
          ],
          "name": "stdout"
        }
      ]
    },
    {
      "cell_type": "markdown",
      "metadata": {
        "id": "oQ80yDvkQFqp",
        "colab_type": "text"
      },
      "source": [
        "## 2.) Implement a Python program to generate all sentences where subject is in [\"Americans\",\"Indians\"] and verb is in [\"Play\", \"watch\"] and the object is in [\"Baseball\",\"cricket\"].\n",
        "\n",
        "Hint: Subject,Verb and Object should be declared in the program as shown below.\n",
        "\n",
        "### subjects=[\"Americans \",\"Indians\"]\n",
        "### verbs=[\"play\",\"watch\"]\n",
        "### objects=[\"Baseball\",\"Cricket\"]"
      ]
    },
    {
      "cell_type": "code",
      "metadata": {
        "id": "mTx_-Cu7T1Tr",
        "colab_type": "code",
        "colab": {
          "base_uri": "https://localhost:8080/",
          "height": 153
        },
        "outputId": "ab65ec4c-459f-482a-8701-c5a1a92463cb"
      },
      "source": [
        "subjects=[\"Americans \",\"Indians\"]\n",
        "verbs=[\"play\",\"watch\"]\n",
        "objects=[\"Baseball\",\"Cricket\"]\n",
        "\n",
        "result = [(sub + \" \" + ver + \" \" + obj) for sub in subjects for ver in verbs for obj in objects]\n",
        "\n",
        "\n",
        "for re in result:\n",
        "  print(re)"
      ],
      "execution_count": 4,
      "outputs": [
        {
          "output_type": "stream",
          "text": [
            "Americans  play Baseball\n",
            "Americans  play Cricket\n",
            "Americans  watch Baseball\n",
            "Americans  watch Cricket\n",
            "Indians play Baseball\n",
            "Indians play Cricket\n",
            "Indians watch Baseball\n",
            "Indians watch Cricket\n"
          ],
          "name": "stdout"
        }
      ]
    },
    {
      "cell_type": "markdown",
      "metadata": {
        "id": "MAqFo9nYJnFX",
        "colab_type": "text"
      },
      "source": [
        "#Task 2:\n",
        "\n",
        "## 1.) Write a function so that the columns of the output matrix are powers of the input vector.\n",
        "\n",
        "## Theorderofthepowersisdeterminedbytheincreasingbooleanargument.Specifically,whenincreasingisFalse,thei-thoutputcolumnistheinputvectorraisedelement-wisetothepowerof N - i - 1.\n",
        "\n",
        "HINT:SuchamatrixwithageometricprogressionineachrowisnamedforAlexandre-Theophile Vandermonde."
      ]
    },
    {
      "cell_type": "code",
      "metadata": {
        "id": "uyqGjM4lCzl9",
        "colab_type": "code",
        "colab": {}
      },
      "source": [
        "import numpy as np \n",
        "vector = np.array([1,2,3,4,5])\n",
        "\n",
        "def matrix(vector, n, increasing=True):\n",
        "  if not increasing:\n",
        "    matx = np.array([x**(n-1-i) for x in vector for i in range(n)]).reshape(vector.size, n)\n",
        "  elif increasing:\n",
        "    matx = np.array([x**i for x in vector for i in range(n)]).reshape(vector.size, n) \n",
        "    \n",
        "  return matx "
      ],
      "execution_count": 0,
      "outputs": []
    },
    {
      "cell_type": "code",
      "metadata": {
        "id": "YWaKbRqDLJaW",
        "colab_type": "code",
        "outputId": "28bc085b-e25c-4cc7-fb5c-e8d089116dc5",
        "colab": {
          "base_uri": "https://localhost:8080/",
          "height": 102
        }
      },
      "source": [
        "matrix(vector , 5)"
      ],
      "execution_count": 0,
      "outputs": [
        {
          "output_type": "execute_result",
          "data": {
            "text/plain": [
              "array([[  1,   1,   1,   1,   1],\n",
              "       [  1,   2,   4,   8,  16],\n",
              "       [  1,   3,   9,  27,  81],\n",
              "       [  1,   4,  16,  64, 256],\n",
              "       [  1,   5,  25, 125, 625]])"
            ]
          },
          "metadata": {
            "tags": []
          },
          "execution_count": 4
        }
      ]
    },
    {
      "cell_type": "code",
      "metadata": {
        "id": "_tHInllTLan_",
        "colab_type": "code",
        "colab": {}
      },
      "source": [
        ""
      ],
      "execution_count": 0,
      "outputs": []
    }
  ]
}